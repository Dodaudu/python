{
 "cells": [
  {
   "cell_type": "code",
   "execution_count": 1,
   "metadata": {},
   "outputs": [],
   "source": [
    "import pandas as pd\n",
    "import imaplib as plt\n",
    "import numpy as np"
   ]
  },
  {
   "cell_type": "code",
   "execution_count": 3,
   "metadata": {},
   "outputs": [
    {
     "data": {
      "text/plain": [
       "'C:\\\\Users\\\\jacob odaudu\\\\Downloads'"
      ]
     },
     "execution_count": 3,
     "metadata": {},
     "output_type": "execute_result"
    }
   ],
   "source": [
    "import os\n",
    "os.chdir('C:/Users/jacob odaudu/Downloads')\n",
    "cwd = os.getcwd()\n",
    "cwd"
   ]
  },
  {
   "cell_type": "code",
   "execution_count": 4,
   "metadata": {},
   "outputs": [
    {
     "name": "stdout",
     "output_type": "stream",
     "text": [
      "10_1_Chicago_Payroll_Data_Exercise_2 (1).ipynb\n",
      "10_1_Chicago_Payroll_Data_Exercise_2.ipynb\n",
      "10_2_Chicago_Payroll_Data_Exercise_2_Solution.ipynb\n",
      "15213269.2021.pdf\n",
      "1_1_Project_Oil_vs_Banks_in_Resession_OverView.ipynb\n",
      "1_Linear_Regression.ipynb\n",
      "1_matplotlib_essentials.ipynb\n",
      "1_NumPy_Essentials (1).ipynb\n",
      "1_NumPy_Essentials.ipynb\n",
      "1_Python_Essentials.ipynb\n",
      "1_Seaborn_intro.ipynb\n",
      "20190424_214502.jpg\n",
      "2021 APPCC Assignment Front cover.docx\n",
      "20220110_203517 (1).jpg\n",
      "20220110_203517.jpg\n",
      "210474-60105-30-Will-Share (1).docx\n",
      "210474-60105-30-Will-Share.docx\n",
      "2_1_matplotlib_Exercises.ipynb\n",
      "2_2_matplotlib_Exercises_Sol.ipynb\n",
      "2_Python_Essentials.ipynb\n",
      "2_Series (1).ipynb\n",
      "2_Series (2).ipynb\n",
      "2_Series (3).ipynb\n",
      "2_Series (4).ipynb\n",
      "2_Series.ipynb\n",
      "3_DataFrame (1).ipynb\n",
      "3_DataFrame.ipynb\n",
      "3_Python_Essentials.ipynb\n",
      "4_1_NumPy_Essentials_Exercises_Overview (1).ipynb\n",
      "4_1_NumPy_Essentials_Exercises_Overview (2).ipynb\n",
      "4_1_NumPy_Essentials_Exercises_Overview (3).ipynb\n",
      "4_1_NumPy_Essentials_Exercises_Overview.ipynb\n",
      "4_1_Python_Essentials_Exercises (1).ipynb\n",
      "4_1_Python_Essentials_Exercises (2).ipynb\n",
      "4_1_Python_Essentials_Exercises (3).ipynb\n",
      "4_1_Python_Essentials_Exercises.ipynb\n",
      "4_2_NumPy_Essentials_Exercises_Solutions (1).ipynb\n",
      "4_2_NumPy_Essentials_Exercises_Solutions (2).ipynb\n",
      "4_2_NumPy_Essentials_Exercises_Solutions.ipynb\n",
      "4_2_Python_Essentials_Exercises_Solutions.ipynb\n",
      "4_Hierarchical_Indexing (1).ipynb\n",
      "4_Hierarchical_Indexing.ipynb\n",
      "734cd1c00453e958ce87d68adbdb0d1f (1).mp4\n",
      "734cd1c00453e958ce87d68adbdb0d1f.mp4\n",
      "9_1_Cust_Purch_Data_Exercise_1 (1).ipynb\n",
      "9_1_Cust_Purch_Data_Exercise_1 (2).ipynb\n",
      "9_1_Cust_Purch_Data_Exercise_1.ipynb\n",
      "9_2_Cust_Purch_Data_Exercise_1_Solutions (1).ipynb\n",
      "9_2_Cust_Purch_Data_Exercise_1_Solutions (2).ipynb\n",
      "9_2_Cust_Purch_Data_Exercise_1_Solutions (3).ipynb\n",
      "9_2_Cust_Purch_Data_Exercise_1_Solutions (4).ipynb\n",
      "9_2_Cust_Purch_Data_Exercise_1_Solutions.ipynb\n",
      "a99b3e1374557bbc2fe6f223c64ca3a1.mp4\n",
      "An Experimental Examination of the Effectiveness of Framing Strategies to Reduce Mental Health Stigma.pdf\n",
      "Anaconda3-2022.05-Windows-x86_64.exe\n",
      "AP-2748J (1).docx\n",
      "AP-2748J (2).docx\n",
      "AP-2748J (3).docx\n",
      "AP-2748J.docx\n",
      "archive.zip\n",
      "Assessment Brief 2021 FINAL.docx\n",
      "ASSESSMENT BRIEF EVIDENCE AND ENQUIRY with IMR for Sept 2022.docx\n",
      "Assignment (1).docx\n",
      "Assignment (2).docx\n",
      "Assignment.docx\n",
      "b67e37e5-a468-4288-ae7f-faf1cf339f00.pdf\n",
      "Background and Housekeeping Nervecentre slideshow for all  disciplines 01.2021.pptx\n",
      "bitdefender_windows_62748da0-6f33-40b9-a3fb-d04f999276ee (1).exe\n",
      "bitdefender_windows_62748da0-6f33-40b9-a3fb-d04f999276ee.exe\n",
      "C45D1112-059E-4FB9-BE58-E746BD91BF54.jpeg\n",
      "care planning asssignment22 (1).docx\n",
      "care planning asssignment22 (2).docx\n",
      "care planning asssignment22.docx\n",
      "Certificate for Ocho Jacob.pub\n",
      "cheat-sheet-bundle.zip\n",
      "ChromeSetup.exe\n",
      "City_of_Chicago_Payroll_Data.csv\n",
      "crimes-2017-18 (1).xlsx\n",
      "crimes-2017-18 (2).xlsx\n",
      "crimes-2017-18 (3).xlsx\n",
      "crimes-2017-18 (4).xlsx\n",
      "crimes-2017-18.csv\n",
      "crimes-2017-18.xlsx\n",
      "crimes-2018.csv\n",
      "critcal reflection assignment final. 1.docx\n",
      "Cust_Purch_FakeData.csv\n",
      "Dad type request pt.2 (1).docx\n",
      "Dad type request pt.2.docx\n",
      "Dad type request pt.2.txt\n",
      "Dad type request.txt\n",
      "David_Odaudu_CV (1).pdf\n",
      "David_Odaudu_CV (2).pdf\n",
      "David_Odaudu_CV.pdf\n",
      "dbvis_windows-x64_14_0_3_jre.exe\n",
      "Dear Mr Odaudu (1).DOC\n",
      "Dear Mr Odaudu (2).DOC\n",
      "Dear Mr Odaudu (3).DOC\n",
      "Dear Mr Odaudu.DOC\n",
      "desktop.ini\n",
      "DS_Store\n",
      "Electronic Nervecentre Competency Statement v1.6 (Nurse, TNA, HCA,  Apprentice, Students)-converted (1).docx\n",
      "Electronic Nervecentre Competency Statement v1.6 (Nurse, TNA, HCA,  Apprentice, Students)-converted (2).docx\n",
      "Electronic Nervecentre Competency Statement v1.6 (Nurse, TNA, HCA,  Apprentice, Students)-converted (3).docx\n",
      "Electronic Nervecentre Competency Statement v1.6 (Nurse, TNA, HCA,  Apprentice, Students)-converted (4).docx\n",
      "Electronic Nervecentre Competency Statement v1.6 (Nurse, TNA, HCA,  Apprentice, Students)-converted (5).docx\n",
      "Electronic Nervecentre Competency Statement v1.6 (Nurse, TNA, HCA,  Apprentice, Students)-converted (6).docx\n",
      "Electronic Nervecentre Competency Statement v1.6 (Nurse, TNA, HCA,  Apprentice, Students)-converted.docx\n",
      "emp_dept.sql\n",
      "Front sheet with Confidentiality and care Statement April 2019.docx\n",
      "Git-2.38.1-64-bit.exe\n",
      "Guidance for Nurse, TNA, HCA, Apprentice, Student how to complete  Nervecentre eLearning (v1.3) (1).pdf\n",
      "Guidance for Nurse, TNA, HCA, Apprentice, Student how to complete  Nervecentre eLearning (v1.3) (2).pdf\n",
      "Guidance for Nurse, TNA, HCA, Apprentice, Student how to complete  Nervecentre eLearning (v1.3) (3).pdf\n",
      "Guidance for Nurse, TNA, HCA, Apprentice, Student how to complete  Nervecentre eLearning (v1.3) (4).pdf\n",
      "Guidance for Nurse, TNA, HCA, Apprentice, Student how to complete  Nervecentre eLearning (v1.3).pdf\n",
      "How_to_share_your_MYEPAD_with_your_Practice_Assessor (1).pdf\n",
      "IMG-20190625-WA0005 (1).jpg\n",
      "IMG-20190625-WA0005.jpg\n",
      "IMG-20190625-WA0006.jpg\n",
      "Jacob (2).docx\n",
      "KK-MEW-JACO-01_(RF).docx\n",
      "lion-running.jpg\n",
      "lion.jpg\n",
      "mary story (1).docx\n",
      "mary story (2).docx\n",
      "mary story.docx\n",
      "oche .docx\n",
      "ocho research (1).pdf\n",
      "ocho research.pdf\n",
      "OfficeSetup.exe\n",
      "Performance-Report-David-Odaudu-Economics-2022-05-15.pdf\n",
      "Pluto (1).pptx\n",
      "Pluto.pptx\n",
      "poetry\n",
      "poster 11-apr-22-converted (1).pdf\n",
      "poster 11-apr-22-converted (2).pdf\n",
      "poster 11-apr-22-converted.pdf\n",
      "postgresql-15.1-1-windows-x64.exe\n",
      "python-3.11.0-amd64.exe\n",
      "Queries.csv\n",
      "shapeimage_2.png\n",
      "sqlectron-Setup-1.38.0.exe\n",
      "Stigma_and_discrimination_as_c.pdf\n",
      "strenght.html\n",
      "Task2PosterScreencastSlides.pptx\n",
      "TeamViewer_Setup_x64.exe\n",
      "TFS DECEMBER 2021_Jacob Odaubu (1).pdf\n",
      "TFS DECEMBER 2021_Jacob Odaubu (2).pdf\n",
      "TFS DECEMBER 2021_Jacob Odaubu.pdf\n",
      "TFS Immunisation Self Declaration Form_ b - final.pdf\n",
      "TradingView.msix\n",
      "TSQL-Databases.zip\n",
      "virtual-assistant.jpg\n",
      "VSCodeUserSetup-x64-1.72.2 (1).exe\n",
      "VSCodeUserSetup-x64-1.72.2.exe\n",
      "VSCodeUserSetup-x64-1.73.0.exe\n",
      "What is Nervecentre, who needs training, how to access eLearning,  how to get access and correct permissions V-5.3.pdf\n",
      "Working_with_jupyter-checkpoint.ipynb\n",
      "ZoomInstaller (1).exe\n",
      "ZoomInstaller.exe\n",
      "_1_Python_Essentials (1).ipynb\n",
      "_1_Python_Essentials.ipynb\n",
      "_2_Python_Essentials.ipynb\n",
      "_4_1_Python_Essentials_Exercises (1).ipynb\n",
      "_4_1_Python_Essentials_Exercises (2).ipynb\n",
      "_4_1_Python_Essentials_Exercises.ipynb\n",
      "_Course_Intro.pdf\n"
     ]
    }
   ],
   "source": [
    "files = [f for f in os.listdir('.') if os.path.isfile(f)]\n",
    "for f in files:\n",
    "    print (f)"
   ]
  },
  {
   "cell_type": "code",
   "execution_count": 53,
   "metadata": {},
   "outputs": [
    {
     "name": "stderr",
     "output_type": "stream",
     "text": [
      "C:\\Users\\jacob odaudu\\AppData\\Local\\Temp\\ipykernel_7440\\2850876715.py:1: DtypeWarning: Columns (0,2,3,4,5,6,7,9) have mixed types. Specify dtype option on import or set low_memory=False.\n",
      "  crime=pd.read_csv('crimes-2017-18.csv')\n"
     ]
    }
   ],
   "source": [
    "crime=pd.read_csv('crimes-2017-18.csv')"
   ]
  },
  {
   "cell_type": "code",
   "execution_count": 54,
   "metadata": {},
   "outputs": [
    {
     "data": {
      "text/plain": [
       "215002"
      ]
     },
     "execution_count": 54,
     "metadata": {},
     "output_type": "execute_result"
    }
   ],
   "source": [
    "#crime.dropna(how='all', inplace=True)\n",
    "crime.shape[0]"
   ]
  },
  {
   "cell_type": "code",
   "execution_count": 56,
   "metadata": {},
   "outputs": [
    {
     "data": {
      "text/plain": [
       "Financial Year          191098\n",
       "Financial Quarter       191098\n",
       "Force Name              191098\n",
       "CSP Name                191098\n",
       "Offence Description     191098\n",
       "Offence Group           191098\n",
       "Offence Subgroup        191098\n",
       "Offence Code            191098\n",
       "Number of offences      191098\n",
       "Date                    191098\n",
       "dtype: int64"
      ]
     },
     "execution_count": 56,
     "metadata": {},
     "output_type": "execute_result"
    }
   ],
   "source": [
    "crime.dropna().count()"
   ]
  },
  {
   "attachments": {},
   "cell_type": "markdown",
   "metadata": {},
   "source": [
    "1.What is the total number of burglaries in October 2018? "
   ]
  },
  {
   "cell_type": "code",
   "execution_count": 43,
   "metadata": {},
   "outputs": [],
   "source": [
    "#crime['Date'] = crime['Date'].astype(str)\n",
    "#crime[((crime['Offence Subgroup'] =='Non-domestic burglary') | (crime['Offence Subgroup'] =='Domestic burglary')) & (crime['Date'].apply(lambda x: x[2:]) == '/10/2018')]\n"
   ]
  },
  {
   "cell_type": "code",
   "execution_count": 57,
   "metadata": {},
   "outputs": [
    {
     "data": {
      "text/plain": [
       "1147"
      ]
     },
     "execution_count": 57,
     "metadata": {},
     "output_type": "execute_result"
    }
   ],
   "source": [
    "crime = crime[crime['Date'].notna()]\n",
    "mask = crime['Date'].str.contains(r'10/2018')&crime['Offence Subgroup'].str.contains(r'burg|Burg')\n",
    "crime1 = crime[mask]\n",
    "\n",
    "crime1.shape[0]\n",
    "\n"
   ]
  },
  {
   "attachments": {},
   "cell_type": "markdown",
   "metadata": {},
   "source": [
    "9082 total of rows i.e total data"
   ]
  },
  {
   "attachments": {},
   "cell_type": "markdown",
   "metadata": {},
   "source": [
    "2.What are the different types of burglaries in 2017? "
   ]
  },
  {
   "cell_type": "code",
   "execution_count": 58,
   "metadata": {},
   "outputs": [
    {
     "data": {
      "text/plain": [
       "Domestic burglary        7659\n",
       "Non-domestic burglary    4699\n",
       "Name: Offence Subgroup, dtype: int64"
      ]
     },
     "execution_count": 58,
     "metadata": {},
     "output_type": "execute_result"
    }
   ],
   "source": [
    "dif_burg2=crime[(crime['Offence Subgroup'].str.contains(r'burg|Burg'))&(crime['Date'].str.contains(r'/2017'))]\n",
    "dif_burg2['Offence Subgroup'].value_counts()"
   ]
  },
  {
   "cell_type": "code",
   "execution_count": 46,
   "metadata": {},
   "outputs": [
    {
     "data": {
      "text/plain": [
       "\"dif_burg=crime[((crime['Offence Subgroup'] =='Non-domestic burglary') | (crime['Offence Subgroup'] =='Domestic burglary')) & (crime['Date'].apply(lambda x: x[6:]) == '2017')]\\ndif_burg['Offence Description '].value_counts()\""
      ]
     },
     "execution_count": 46,
     "metadata": {},
     "output_type": "execute_result"
    }
   ],
   "source": [
    "'''dif_burg=crime[((crime['Offence Subgroup'] =='Non-domestic burglary') | (crime['Offence Subgroup'] =='Domestic burglary')) & (crime['Date'].apply(lambda x: x[6:]) == '2017')]\n",
    "dif_burg['Offence Description '].value_counts()'''"
   ]
  },
  {
   "attachments": {},
   "cell_type": "markdown",
   "metadata": {},
   "source": [
    "3.Visualise the total number of burglaries in 2017 and 2018 according to their types?"
   ]
  },
  {
   "cell_type": "code",
   "execution_count": 86,
   "metadata": {},
   "outputs": [
    {
     "data": {
      "image/png": "[encoded data removed]",
      "text/plain": [
       "<Figure size 432x288 with 1 Axes>"
      ]
     },
     "metadata": {
      "needs_background": "light"
     },
     "output_type": "display_data"
    }
   ],
   "source": [
    "import matplotlib.pyplot as plt\n",
    "\n",
    "# Calculate the counts for each offence subgroup in 2017 and 2018\n",
    "total_type1 = crime[(crime['Date'].str.contains(r'2017'))&(crime['Offence Subgroup']=='Non-domestic burglary')]\n",
    "total_type2 = crime[(crime['Date'].str.contains(r'2018'))&(crime['Offence Subgroup']=='Non-domestic burglary')]\n",
    "total_type3 = crime[(crime['Date'].str.contains(r'2017'))&(crime['Offence Subgroup']=='Domestic burglary')]\n",
    "total_type4 = crime[(crime['Date'].str.contains(r'2018'))&(crime['Offence Subgroup']=='Domestic burglary')]\n",
    "\n",
    "# Calculate the counts for each subgroup\n",
    "counts1 = total_type1['Offence Subgroup'].value_counts()\n",
    "counts2 = total_type2['Offence Subgroup'].value_counts()\n",
    "counts3 = total_type3['Offence Subgroup'].value_counts()\n",
    "counts4 = total_type4['Offence Subgroup'].value_counts()\n",
    "\n",
    "# Create a list of all the unique offence descriptions\n",
    "offence_descriptions = set(counts1.index) | set(counts2.index) | set(counts3.index) | set(counts4.index)\n",
    "\n",
    "# Create a dictionary to store the counts for each subgroup for each offence description\n",
    "subgroup_counts = {od: [counts1.get(od, 0), counts2.get(od, 0), counts3.get(od, 0), counts4.get(od, 0)] for od in offence_descriptions}\n",
    "\n",
    "\n",
    "subgroup_counts_df = pd.DataFrame(subgroup_counts, index=['2017 Non-domestic', '2018 Non-domestic', '2017 Domestic', '2018 Domestic'])\n",
    "subgroup_counts_df.plot(kind='bar')\n",
    "\n",
    "\n",
    "plt.xlabel('Offence Description')\n",
    "plt.ylabel('Number of Burglaries')\n",
    "plt.title('Total Number of Burglaries in 2017 and 2018 by Subgroup')\n",
    "\n",
    "\n",
    "plt.xticks(rotation=90)\n",
    "\n",
    "plt.show()\n",
    "\n",
    "\n",
    "\n",
    "\n"
   ]
  },
  {
   "cell_type": "code",
   "execution_count": 85,
   "metadata": {},
   "outputs": [
    {
     "ename": "SyntaxError",
     "evalue": "EOL while scanning string literal (1910947033.py, line 19)",
     "output_type": "error",
     "traceback": [
      "\u001b[1;36m  Input \u001b[1;32mIn [85]\u001b[1;36m\u001b[0m\n\u001b[1;33m    plt.show()''''\u001b[0m\n\u001b[1;37m                  \n^\u001b[0m\n\u001b[1;31mSyntaxError\u001b[0m\u001b[1;31m:\u001b[0m EOL while scanning string literal\n"
     ]
    }
   ],
   "source": [
    "'''import matplotlib.pyplot as plt\n",
    "\n",
    "# Get the total number of burglaries in 2017 and 2018 by their type\n",
    "total_type=crime[((crime['Offence Subgroup'] =='Non-domestic burglary') | (crime['Offence Subgroup'] =='Domestic burglary'))\n",
    "&((crime['Date'].apply(lambda x: x[6:]) == '2017')|(crime['Date'].apply(lambda x: x[6:]) == '2018'))]\n",
    "offence_counts = total_type['Offence Subgroup'].value_counts()\n",
    "\n",
    "# Plot the data using a bar chart\n",
    "offence_counts.plot(kind='bar')\n",
    "\n",
    "\n",
    "# Add labels and a title to the chart\n",
    "plt.xlabel('Offence type')\n",
    "plt.ylabel('Number of Burglaries')\n",
    "plt.title('Total Number of Burglaries in 2017 and 2018 by Offence Description')\n",
    "\n",
    "plt.xticks(rotation=90)\n",
    "# Show the chart\n",
    "plt.show()''''\n",
    "\n",
    "\n"
   ]
  },
  {
   "attachments": {},
   "cell_type": "markdown",
   "metadata": {},
   "source": [
    "4.What is the total number of burglaries related to sexual offences?"
   ]
  },
  {
   "cell_type": "code",
   "execution_count": 130,
   "metadata": {},
   "outputs": [
    {
     "data": {
      "text/html": [
       "<div>\n",
       "<style scoped>\n",
       "    .dataframe tbody tr th:only-of-type {\n",
       "        vertical-align: middle;\n",
       "    }\n",
       "\n",
       "    .dataframe tbody tr th {\n",
       "        vertical-align: top;\n",
       "    }\n",
       "\n",
       "    .dataframe thead th {\n",
       "        text-align: right;\n",
       "    }\n",
       "</style>\n",
       "<table border=\"1\" class=\"dataframe\">\n",
       "  <thead>\n",
       "    <tr style=\"text-align: right;\">\n",
       "      <th></th>\n",
       "      <th>Financial Year</th>\n",
       "      <th>Financial Quarter</th>\n",
       "      <th>Force Name</th>\n",
       "      <th>CSP Name</th>\n",
       "      <th>Offence Description</th>\n",
       "      <th>Offence Group</th>\n",
       "      <th>Offence Subgroup</th>\n",
       "      <th>Offence Code</th>\n",
       "      <th>Number of offences</th>\n",
       "      <th>Date</th>\n",
       "    </tr>\n",
       "  </thead>\n",
       "  <tbody>\n",
       "  </tbody>\n",
       "</table>\n",
       "</div>"
      ],
      "text/plain": [
       "Empty DataFrame\n",
       "Columns: [Financial Year, Financial Quarter, Force Name, CSP Name, Offence Description , Offence Group, Offence Subgroup, Offence Code , Number of offences, Date]\n",
       "Index: []"
      ]
     },
     "execution_count": 130,
     "metadata": {},
     "output_type": "execute_result"
    }
   ],
   "source": [
    "sex_off=crime[(crime['Offence Description '].str.contains(r'sex|Sex')&(crime['Offence Description '].str.contains(r'Burg|burg')))]\n",
    "sex_off\n"
   ]
  },
  {
   "attachments": {},
   "cell_type": "markdown",
   "metadata": {},
   "source": [
    "the answer is 0"
   ]
  },
  {
   "attachments": {},
   "cell_type": "markdown",
   "metadata": {},
   "source": [
    "5.Plot a chart of the top 3 offence groups and the least 3 offence groups according to the number of offence?"
   ]
  },
  {
   "cell_type": "code",
   "execution_count": 71,
   "metadata": {},
   "outputs": [
    {
     "data": {
      "text/plain": [
       "Public order offences    5840\n",
       "Drug offences            5840\n",
       "Robbery                  2920\n",
       "Name: Offence Group, dtype: int64"
      ]
     },
     "execution_count": 71,
     "metadata": {},
     "output_type": "execute_result"
    }
   ],
   "source": [
    "crime['Offence Group'].tail(3)"
   ]
  },
  {
   "cell_type": "code",
   "execution_count": 70,
   "metadata": {},
   "outputs": [
    {
     "data": {
      "image/png": "[encoded data removed]",
      "text/plain": [
       "<Figure size 432x360 with 1 Axes>"
      ]
     },
     "metadata": {
      "needs_background": "light"
     },
     "output_type": "display_data"
    }
   ],
   "source": [
    "top_three_list = list(crime['Offence Group'].value_counts().head(3).index)\n",
    "bot_three_list = list(crime['Offence Group'].value_counts().tail(3).index)\n",
    "top_and_bot_list = top_three_list + bot_three_list\n",
    "range_6 = crime[crime['Offence Group'].isin(top_and_bot_list)]\n",
    "\n",
    "plt.figure(figsize=(6,5))\n",
    "plt.bar(range_6['Offence Group'].value_counts().index, range_6['Offence Group'].value_counts())\n",
    "plt.xlabel('Offence Group')\n",
    "plt.ylabel('Number of Offences')\n",
    "plt.title('Top and Least 3 Offence Groups')\n",
    "plt.xticks(rotation=90)\n",
    "plt.show()\n",
    "\n"
   ]
  },
  {
   "attachments": {},
   "cell_type": "markdown",
   "metadata": {},
   "source": [
    "6.List all offences in all months in 2017 till the last day of summer in 2020 (for excel only)"
   ]
  },
  {
   "cell_type": "code",
   "execution_count": null,
   "metadata": {},
   "outputs": [],
   "source": []
  },
  {
   "attachments": {},
   "cell_type": "markdown",
   "metadata": {},
   "source": [
    "7.What day of the month has the highest number of offences?"
   ]
  },
  {
   "cell_type": "code",
   "execution_count": 7,
   "metadata": {},
   "outputs": [
    {
     "data": {
      "text/plain": [
       "01/02/2017    596\n",
       "08/02/2017    588\n",
       "02/02/2017    588\n",
       "Name: Date, dtype: int64"
      ]
     },
     "execution_count": 7,
     "metadata": {},
     "output_type": "execute_result"
    }
   ],
   "source": [
    "crime['Date'].value_counts().head(3)"
   ]
  },
  {
   "attachments": {},
   "cell_type": "markdown",
   "metadata": {},
   "source": [
    "answer:01/02/2017"
   ]
  },
  {
   "attachments": {},
   "cell_type": "markdown",
   "metadata": {},
   "source": [
    "8.Which of the 4 seasons (summer, autumn etc.) has the highest number of robberies in the data (excel only)"
   ]
  },
  {
   "cell_type": "markdown",
   "metadata": {},
   "source": []
  },
  {
   "cell_type": "markdown",
   "metadata": {},
   "source": []
  },
  {
   "cell_type": "code",
   "execution_count": null,
   "metadata": {},
   "outputs": [],
   "source": []
  }
 ],
 "metadata": {
  "kernelspec": {
   "display_name": "base",
   "language": "python",
   "name": "python3"
  },
  "language_info": {
   "codemirror_mode": {
    "name": "ipython",
    "version": 3
   },
   "file_extension": ".py",
   "mimetype": "text/x-python",
   "name": "python",
   "nbconvert_exporter": "python",
   "pygments_lexer": "ipython3",
   "version": "3.9.12"
  },
  "orig_nbformat": 4,
  "vscode": {
   "interpreter": {
    "hash": "687ddf8abf4334213a29ed7cd45e80b01ae1fdc8f6a73e166ae07919dc05f92b"
   }
  }
 },
 "nbformat": 4,
 "nbformat_minor": 2
}
