{
 "cells": [
  {
   "cell_type": "code",
   "execution_count": 206,
   "metadata": {},
   "outputs": [
    {
     "data": {
      "text/plain": [
       "86400.0"
      ]
     },
     "execution_count": 206,
     "metadata": {},
     "output_type": "execute_result"
    }
   ],
   "source": [
    "days = [1, 2, 3, 4, 5]\n",
    "\n",
    "\n",
    "def tim_stam(x=-300):\n",
    "    for num in days:\n",
    "        print(x+(1440*num))\n"
   ]
  },
  {
   "cell_type": "code",
   "execution_count": 35,
   "metadata": {},
   "outputs": [
    {
     "ename": "ModuleNotFoundError",
     "evalue": "No module named 'request'",
     "output_type": "error",
     "traceback": [
      "\u001b[1;31m---------------------------------------------------------------------------\u001b[0m",
      "\u001b[1;31mModuleNotFoundError\u001b[0m                       Traceback (most recent call last)",
      "Cell \u001b[1;32mIn [35], line 3\u001b[0m\n\u001b[0;32m      1\u001b[0m \u001b[39mimport\u001b[39;00m \u001b[39mjson\u001b[39;00m\n\u001b[0;32m      2\u001b[0m \u001b[39mfrom\u001b[39;00m \u001b[39mdatetime\u001b[39;00m \u001b[39mimport\u001b[39;00m datetime\n\u001b[1;32m----> 3\u001b[0m \u001b[39mimport\u001b[39;00m \u001b[39mrequest\u001b[39;00m\n",
      "\u001b[1;31mModuleNotFoundError\u001b[0m: No module named 'request'"
     ]
    }
   ],
   "source": [
    "import json\n",
    "from datetime import datetime\n"
   ]
  },
  {
   "cell_type": "code",
   "execution_count": 13,
   "metadata": {},
   "outputs": [
    {
     "ename": "SyntaxError",
     "evalue": "invalid syntax (2745456086.py, line 28)",
     "output_type": "error",
     "traceback": [
      "\u001b[1;36m  Cell \u001b[1;32mIn [13], line 28\u001b[1;36m\u001b[0m\n\u001b[1;33m    url = (https://api.openweathermap.org/data/2.5/onecall/timemachine?lat=%s&lon=%s&dt=%s&units=metric&appid=%s%(\u001b[0m\n\u001b[1;37m                ^\u001b[0m\n\u001b[1;31mSyntaxError\u001b[0m\u001b[1;31m:\u001b[0m invalid syntax\n"
     ]
    }
   ],
   "source": [
    "def create_5days_list(no_of_days=5):\n",
    "    a_day = 86400\n",
    "    day0 = datetime.timestamp(datetime.now())\n",
    "    past_5_days = []\n",
    "\n",
    "    for i in range(no_of_days):\n",
    "        one_day = int(day0) - int(a_day * i)\n",
    "        past_5_days.append(one_day)\n",
    "    return past_5_days\n",
    "\n",
    "\n",
    "past_5_days_list = create_5days_list()\n",
    "\n",
    "\n",
    "def get_historical_weather(lat=53.75,\n",
    "                           lon=01.54,\n",
    "                           api_key=data_config['api_key'],\n",
    "                           past_5_days=past_5_days_list):\n",
    "    \"\"\" Returns a dataframe with dt and temp columns.\n",
    "    Keyword arguments:\n",
    "    lat -- the latitude (default 53.75)\n",
    "    lon -- the longitude (default 0.54)\n",
    "    api_key -- api key gotten from openweathermap\n",
    "    past_6_days -- a list of timestamps for the 6 days you want historical data for\"\"\"\n",
    "    # created a open df to store values\n",
    "    new_df = pd.DataFrame()\n",
    "    # convert it to a variable\n",
    "    past_5_days_df = pd.DataFrame()\n",
    "    days = range(1, 6)\n",
    "    for days in past_5_days:\n",
    "        url = (\n",
    "            'https://api.openweathermap.org/data/2.5/onecall/timemachine?lat=%s&lon=%s&dt=%s&units=metric&appid=%s' % (\n",
    "            lat, lon, days, api_key))\n",
    "        response = requests.get(url)\n",
    "        data = json.loads(response.text)\n",
    "        # fetching data, form on line an returning into text table\n",
    "        hourly_data = data[\"hourly\"]\n",
    "        # Assuming pulling hourly staticstics from dict\n",
    "        for entry in hourly_data:\n",
    "            temp = pd.DataFrame.from_dict(\n",
    "                pd.json_normalize(entry), orient=\"columns\")\n",
    "            # select only nec. columns\n",
    "            columns = [\"dt\", \"temp\"]\n",
    "            temp = temp[columns]\n",
    "            # transform dt column\n",
    "            temp[\"dt\"] = datetime.fromtimestamp(\n",
    "                entry[\"dt\"], pytz.utc)\n",
    "            new_df = new_df.append(temp, ignore_index=True)\n",
    "            # concatenate each day in a new dataframe\n",
    "            past_5_days_df = pd.concat(\n",
    "                [past_5_days_df, new_df], axis=0, ignore_index=False).drop_duplicates()\n",
    "\n",
    "import matplotlib.pyplot as plt\n",
    "\n",
    "fig=plt.figure()\n",
    "fig1= fig.add_axes([0.1,0.1,0.9,0.9])\n",
    "x=past_5_days_list()\n",
    "y=past_5_days_df['temp']\n",
    "fig1.plot(x,y,'r.-')\n",
    "fig1.set_xlabel('timestamp')\n",
    "fig1.set_ylabel('temperature')\n",
    "fig1.set_title('the temperature for the past 5 days')\n"
   ]
  },
  {
   "cell_type": "code",
   "execution_count": null,
   "metadata": {},
   "outputs": [],
   "source": [
    "bc2d732248597a8725c1f5d51e5\n",
    "i dont know where the api key goes"
   ]
  },
  {
   "cell_type": "code",
   "execution_count": 270,
   "metadata": {},
   "outputs": [
    {
     "data": {
      "text/plain": [
       "1668452400.0"
      ]
     },
     "execution_count": 270,
     "metadata": {},
     "output_type": "execute_result"
    }
   ],
   "source": []
  },
  {
   "cell_type": "code",
   "execution_count": 32,
   "metadata": {},
   "outputs": [
    {
     "ename": "NameError",
     "evalue": "name 'data_config' is not defined",
     "output_type": "error",
     "traceback": [
      "\u001b[1;31m---------------------------------------------------------------------------\u001b[0m",
      "\u001b[1;31mNameError\u001b[0m                                 Traceback (most recent call last)",
      "Cell \u001b[1;32mIn [32], line 10\u001b[0m\n\u001b[0;32m      5\u001b[0m \u001b[39mimport\u001b[39;00m \u001b[39mdatetime\u001b[39;00m\n\u001b[0;32m      6\u001b[0m past_5_days \u001b[39m=\u001b[39m [\u001b[39m1665770400.0\u001b[39m, \u001b[39m1665684000.0\u001b[39m,\n\u001b[0;32m      7\u001b[0m                \u001b[39m1665597600.0\u001b[39m, \u001b[39m1665511200.0\u001b[39m, \u001b[39m1665424800.0\u001b[39m]\n\u001b[1;32m---> 10\u001b[0m \u001b[39mdef\u001b[39;00m \u001b[39mget_historical_weater\u001b[39m(lat\u001b[39m=\u001b[39m\u001b[39m53.7\u001b[39m, lon\u001b[39m=\u001b[39m\u001b[39m1.54\u001b[39m, api_key\u001b[39m=\u001b[39mdata_config[bc2d732248597a8725c1f5d51e5], past_6_days\u001b[39m=\u001b[39mpast_6_days_list):\n\u001b[0;32m     11\u001b[0m     \u001b[39mfor\u001b[39;00m days \u001b[39min\u001b[39;00m past_6_days:\n\u001b[0;32m     12\u001b[0m         url \u001b[39m=\u001b[39m \u001b[39m\"\u001b[39m\u001b[39mhttps//api.openweathermap.org/data/2.5/onecall/timemachinelat=\u001b[39m\u001b[39m%s\u001b[39;00m\u001b[39m&lon=\u001b[39m\u001b[39m%s\u001b[39;00m\u001b[39m&dt=\u001b[39m\u001b[39m%s\u001b[39;00m\u001b[39m&units=metric&appid=\u001b[39m\u001b[39m%s\u001b[39;00m\u001b[39m%\u001b[39m\u001b[39m\"\u001b[39m\n",
      "\u001b[1;31mNameError\u001b[0m: name 'data_config' is not defined"
     ]
    }
   ],
   "source": [
    "import numpy as np\n",
    "import pandas as pd\n",
    "import io\n",
    "import json\n",
    "import datetime\n",
    "past_5_days = [1665770400.0, 1665684000.0,\n",
    "               1665597600.0, 1665511200.0, 1665424800.0]\n",
    "\n",
    "\n",
    "def get_historical_weater(lat=53.7, lon=1.54, api_key=data_config[bc2d732248597a8725c1f5d51e5], past_6_days=past_6_days_list):\n",
    "    for days in past_6_days:\n",
    "        url = \"https//api.openweathermap.org/data/2.5/onecall/timemachinelat=%s&lon=%s&dt=%s&units=metric&appid=%s%\"\n",
    "        response = requests.get(url)\n",
    "        data = json.loads(response.text)\n",
    "        hourly_data = data[\"hourly\"]\n",
    "        for entry in hourly_data:\n",
    "            temp = pd.DataFrame.from_dict(\n",
    "                pd.json_normalize(entry), orient=\"columns\")\n",
    "            columns = [\"dt\", \"temp\"]\n",
    "            temp = temp[columns]\n",
    "            temp[\"dt\"] = datetime.fromtimestamp(entry[\"dt\"], pytz.utc)\n",
    "            new_df = new_df.append(temp, ignore_index=True)\n",
    "            past_6_days_df = pd.concat(\n",
    "                [past_6_days_df, new_df], axis=0, ignore_index=False).drop_duplicates()\n",
    "            return past_6_days_df\n"
   ]
  },
  {
   "cell_type": "code",
   "execution_count": 20,
   "metadata": {},
   "outputs": [
    {
     "ename": "SyntaxError",
     "evalue": "invalid syntax (3197472712.py, line 30)",
     "output_type": "error",
     "traceback": [
      "\u001b[1;36m  Cell \u001b[1;32mIn [20], line 30\u001b[1;36m\u001b[0m\n\u001b[1;33m    https: // api.openweathermap.org/data/2.5/onecall/timemachine?lat= % s & lon= % s & dt= % s & units=metric & appid= % s % (lat, lon, day, api_key))\u001b[0m\n\u001b[1;37m         ^\u001b[0m\n\u001b[1;31mSyntaxError\u001b[0m\u001b[1;31m:\u001b[0m invalid syntax\n"
     ]
    }
   ],
   "source": [
    "def create_6days_list(no_of_days=6):\n",
    "    a_day = 86400\n",
    "    day0 = datetime.timestamp(datetime.now())\n",
    "    past_6_days = []\n",
    "\n",
    "    for i in range(no_of_days):\n",
    "        one_day = int(day0) - int(a_day * i)\n",
    "        past_6_days.append(one_day)\n",
    "    return past_6_days\n",
    "\n",
    "\n",
    "def get_historical_weather(lat=53.75,\n",
    "                           lon=01.54,\n",
    "                           api_key=bc2d732248597a8725c1f5d51e5['api_key'],\n",
    "                           past_6_days=past_6_days_list):\n",
    "    \"\"\" Returns a dataframe with dt and temp columns.\n",
    "    Keyword arguments:\n",
    "    lat -- the latitude (default 53.75)\n",
    "    lon -- the longitude (default 0.54)\n",
    "    api_key -- api key gotten from openweathermap\n",
    "    past_6_days -- a list of timestamps for the 6 days you want historical data for\"\"\"\n",
    "    # created a open df to store values\n",
    "    new_df = pd.DataFrame()\n",
    "    # convert it to a variable\n",
    "    past_5_days_df = pd.DataFrame()\n",
    "    days = range(1, 6)\n",
    "    for day in past_6_days:\n",
    "        url = (\n",
    "\n",
    "            'https: // api.openweathermap.org/data/2.5/onecall/timemachine?lat=%s&lon=%s&dt=%s&units=metric&appid=%s' \n",
    "            % (lat, lon, day, api_key))\n",
    "\n",
    "        response = requests.get(url)\n",
    "        data = json.loads(response.text)\n",
    "        # json? assumption of pulling data into function and converting into python test\n",
    "        hourly_data = data[\"hourly\"]\n",
    "        # Assuming pulling hourly staticstics from dict\n",
    "        for entry in hourly_data:\n",
    "            temp = pd.DataFrame.from_dict(\n",
    "                pd.json_normalize(entry), orient=\"columns\")\n",
    "            # select only nec. columns\n",
    "            columns = [\"dt\", \"temp\"]\n",
    "            temp = temp[columns]\n",
    "            # transform dt column\n",
    "            temp[\"dt\"] = datetime.fromtimestamp(\n",
    "                entry[\"dt\"], pytz.utc)\n",
    "            new_df = new_df.append(temp, ignore_index=True)\n",
    "            # concatenate each day in a new dataframe\n",
    "            past_6_days_df = pd.concat(\n",
    "                [past_6_days_df, new_df], axis=0, ignore_index=False).drop_duplicates()\n"
   ]
  }
 ],
 "metadata": {
  "kernelspec": {
   "display_name": "python_project",
   "language": "python",
   "name": "python_project"
  },
  "language_info": {
   "codemirror_mode": {
    "name": "ipython",
    "version": 3
   },
   "file_extension": ".py",
   "mimetype": "text/x-python",
   "name": "python",
   "nbconvert_exporter": "python",
   "pygments_lexer": "ipython3",
   "version": "3.11.0"
  },
  "orig_nbformat": 4,
  "vscode": {
   "interpreter": {
    "hash": "c261aea317cc0286b3b3261fbba9abdec21eaa57589985bb7a274bf54d6cc0a7"
   }
  }
 },
 "nbformat": 4,
 "nbformat_minor": 2
}
