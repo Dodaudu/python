{
 "cells": [
  {
   "cell_type": "code",
   "execution_count": null,
   "metadata": {},
   "outputs": [],
   "source": [
    "\"\"\"\n",
    "Run script using python scripts/weather_api_call.py in a suitable env\n",
    "This will update the weather datasets with the latest historical data\n",
    "\"\"\"\n",
    "\n",
    "from datetime import datetime\n",
    "import time\n",
    "import json\n",
    "from click import format_filename\n",
    "import pandas as pd\n",
    "import requests\n",
    "import pytz\n",
    "import yaml\n",
    "import os\n",
    "import numpy as np\n",
    "import matplotlib.pyplot as plt"
   ]
  },
  {
   "cell_type": "code",
   "execution_count": null,
   "metadata": {},
   "outputs": [],
   "source": [
    " def create_5days_list(no_of_days=5):\n",
    "     a_day = 86400\n",
    "     day0 = datetime.timestamp(datetime.now())\n",
    "     past_5_days = []\n",
    "\n",
    "     for i in range(no_of_days):\n",
    "         one_day = int(day0) - int(a_day * i)\n",
    "         past_5_days.append(one_day)\n",
    "         return past_5_days\n",
    "\n",
    "\n",
    "past_5_days_list = create_5days_list()"
   ]
  },
  {
   "cell_type": "code",
   "execution_count": 14,
   "metadata": {},
   "outputs": [],
   "source": [
    "# what is 7pm timestamp BST 26/11/2022\n",
    "yest_7pm = 1669488240"
   ]
  },
  {
   "cell_type": "code",
   "execution_count": 19,
   "metadata": {},
   "outputs": [
    {
     "data": {
      "text/plain": [
       "[1669488240, 1669401840, 1669315440, 1669229040, 1669142640]"
      ]
     },
     "execution_count": 19,
     "metadata": {},
     "output_type": "execute_result"
    }
   ],
   "source": [
    "no_of_days=5\n",
    "\n",
    "# number of seconds in a day\n",
    "a_day = 86400\n",
    "\n",
    "day0 = yest_7pm\n",
    "past_5_days = []\n",
    "\n",
    "# for loop to create a list  of timestamps in past 5 days\n",
    "for i in range(no_of_days):\n",
    "    one_day = int(day0) - int(a_day * i)\n",
    "    past_5_days.append(one_day)\n",
    "\n",
    "past_5_days"
   ]
  },
  {
   "cell_type": "code",
   "execution_count": null,
   "metadata": {},
   "outputs": [],
   "source": [
    "# def get_historical_weather(\n",
    "#     lat=51.17,\n",
    "#     lon=10.45,\n",
    "#     api_key=data_config['api_key'],\n",
    "#     past_6_days=past_6_days_list,\n",
    "# ):\n",
    "#     \"\"\"\n",
    "#     Returns a dataframe with dt and temp columns.\n",
    "\n",
    "#     Keyword arguments:\n",
    "#     lat -- the latitude (default 51.17)\n",
    "#     lon -- the longitude (default 10.45)\n",
    "#     api_key -- api key gotten from openweathermap\n",
    "#     past_6_days -- a list of timestamps for the 6 days you want historical data for\n",
    " #    \"\"\"\n",
    "     new_df = pd.DataFrame()\n",
    "     past_6_days_df = pd.DataFrame()\n",
    "\n",
    "     for day in past_6_days:\n",
    "         url = (\n",
    "             \"https://api.openweathermap.org/data/2.5/onecall/timemachine?lat=%s&lon=%s&dt=%s&units=metric&appid=%s\"\n",
    "             % (lat, lon, day, api_key)\n",
    "         )\n",
    "         response = requests.get(url)\n",
    "         data = json.loads(response.text)\n",
    "         hourly_data = data[\"hourly\"]\n",
    "\n",
    "         for entry in hourly_data:\n",
    "             temp = pd.DataFrame.from_dict(pd.json_normalize(entry), orient=\"columns\")\n",
    "\n",
    "             # select only nec. columns\n",
    "             columns = [\"dt\", \"temp\"]\n",
    "             temp = temp[columns]\n",
    "\n",
    "             # transform dt column\n",
    "             temp[\"dt\"] = datetime.fromtimestamp(entry[\"dt\"], pytz.utc)\n",
    "             new_df = new_df.append(temp, ignore_index=True)\n",
    "\n",
    "         # concatenate each day in a new dataframe\n",
    "         past_6_days_df = pd.concat(\n",
    "             [past_6_days_df, new_df], axis=0, ignore_index=False\n",
    "         ).drop_duplicates()\n",
    "\n",
    "     return past_6_days_df"
   ]
  },
  {
   "cell_type": "markdown",
   "metadata": {},
   "source": [
    "lat=51.17\n",
    "lon=10.45\n",
    "api_key=\"bc2d732248597a8725c1f5d51e5d3e8a\"\n",
    "past_5_days=past_5_days\n",
    "\n",
    "\"\"\"\n",
    "Returns a dataframe with dt and temp columns.\n",
    "\n",
    "Keyword arguments:\n",
    "lat -- the latitude (default 51.17)\n",
    "lon -- the longitude (default 10.45)\n",
    "api_key -- api key gotten from openweathermap\n",
    "past_5_days -- a list of timestamps for the 5 days you want historical data for\n",
    "\"\"\"\n",
    "new_df = pd.DataFrame()\n",
    "past_5_days_df = pd.DataFrame()\n",
    "\n",
    "for day in past_5_days:\n",
    "    url = (\n",
    "        \"https://api.openweathermap.org/data/2.5/onecall/timemachine?lat=%s&lon=%s&dt=%s&units=metric&appid=%s\"\n",
    "        % (lat, lon, day, api_key)\n",
    "    )\n",
    "    response = requests.get(url)\n",
    "    data = json.loads(response.text)\n",
    "    hourly_data = data[\"hourly\"]\n",
    "\n",
    "    for entry in hourly_data:\n",
    "        temp = pd.DataFrame.from_dict(pd.json_normalize(entry), orient=\"columns\")\n",
    "\n",
    "        # select only nec. columns\n",
    "        columns = [\"dt\", \"temp\"]\n",
    "        temp = temp[columns]\n",
    "\n",
    "        # transform dt column\n",
    "        temp[\"dt\"] = datetime.fromtimestamp(entry[\"dt\"], pytz.utc)\n",
    "        new_df = new_df.append(temp, ignore_index=True)\n",
    "\n",
    "    # concatenate each day in a new dataframe\n",
    "    past_5_days_df = pd.concat(\n",
    "        [past_5_days_df, new_df], axis=0, ignore_index=False\n",
    "    ).drop_duplicates()\n",
    "\n",
    "past_5_days_df"
   ]
  },
  {
   "cell_type": "code",
   "execution_count": null,
   "metadata": {},
   "outputs": [],
   "source": [
    "x=[]\n",
    "y=np.arange(0,5)\n",
    "for num in y:\n",
    "    x1=past_5_days_df['temp'][19+(24*y)]\n",
    "    x.append(x1)\n",
    "return x\n",
    "%matplotlib inline\n",
    "plt.plot(x,y, 'r*-')\n",
    "plt.xlabel('temperature')\n",
    "plt.ylabel('no of days')\n",
    "plt.title('The tempature at 7pm for the past 5 days')"
   ]
  }
 ],
 "metadata": {
  "kernelspec": {
   "display_name": "Python 3.11.0 ('python-tutorial-KekblTT4-py3.11')",
   "language": "python",
   "name": "python3"
  },
  "language_info": {
   "codemirror_mode": {
    "name": "ipython",
    "version": 3
   },
   "file_extension": ".py",
   "mimetype": "text/x-python",
   "name": "python",
   "nbconvert_exporter": "python",
   "pygments_lexer": "ipython3",
   "version": "3.11.0"
  },
  "orig_nbformat": 4,
  "vscode": {
   "interpreter": {
    "hash": "fbc8ef3b39a9b2c6c9b6b4d41356d9bbfd4d7c798977fe3b298e0549d773850a"
   }
  }
 },
 "nbformat": 4,
 "nbformat_minor": 2
}
