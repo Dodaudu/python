{
 "cells": [
  {
   "cell_type": "code",
   "execution_count": 206,
   "metadata": {},
   "outputs": [
    {
     "data": {
      "text/plain": [
       "86400.0"
      ]
     },
     "execution_count": 206,
     "metadata": {},
     "output_type": "execute_result"
    }
   ],
   "source": [
    "days=[1,2,3,4,5]\n",
    "def tim_stam(x=-300):\n",
    "    for num in days:\n",
    "       print(x+(1440*num))\n",
    "\n"
   ]
  },
  {
   "cell_type": "code",
   "execution_count": 275,
   "metadata": {},
   "outputs": [],
   "source": [
    "import json\n",
    "from datetime import datetime"
   ]
  },
  {
   "cell_type": "code",
   "execution_count": 274,
   "metadata": {},
   "outputs": [
    {
     "data": {
      "text/plain": [
       "[1668623483, 1668537083, 1668450683, 1668364283, 1668277883, 1668191483]"
      ]
     },
     "execution_count": 274,
     "metadata": {},
     "output_type": "execute_result"
    }
   ],
   "source": [
    "def create_6days_list(no_of_days=6):\n",
    "    \"\"\"\n",
    "    Create a list of timestamps with the first being the immediate timestamp and\\\n",
    "         the remaining 5 for the 5 previous days.\n",
    "\n",
    "    Keyword arguments:\n",
    "    no_of_days -- the total number of days you want timestamps for (default 6)\n",
    "    \"\"\"\n",
    "    a_day = 86400\n",
    "    day0 = datetime.timestamp(datetime.now())\n",
    "    past_6_days = []\n",
    "\n",
    "    for i in range(no_of_days):\n",
    "        one_day = int(day0) - int(a_day * i)\n",
    "        past_6_days.append(one_day)\n",
    "    return past_6_days\n",
    "\n",
    "past_6_days_list = create_6days_list(6)\n",
    "past_6_days_list"
   ]
  },
  {
   "cell_type": "code",
   "execution_count": 269,
   "metadata": {},
   "outputs": [],
   "source": [
    "import datetime as dt\n",
    "days=[0,1,2,3,4]\n",
    "first_date=dt.datetime(2022, 11, 14, 19)\n",
    "time_stamps = []\n",
    "def sev_pm(current_time=first_date):\n",
    "    for num in days:\n",
    "      time_stamp=current_time.timestamp()-(86400.0*(num))\n",
    "      return(time_stamp)"
   ]
  },
  {
   "cell_type": "code",
   "execution_count": 270,
   "metadata": {},
   "outputs": [
    {
     "data": {
      "text/plain": [
       "1668452400.0"
      ]
     },
     "execution_count": 270,
     "metadata": {},
     "output_type": "execute_result"
    }
   ],
   "source": [
    "past_5_days_list=sev_pm(first_date)\n",
    "past_5_days_list"
   ]
  },
  {
   "cell_type": "code",
   "execution_count": 244,
   "metadata": {},
   "outputs": [
    {
     "ename": "IndentationError",
     "evalue": "unexpected indent (106460500.py, line 11)",
     "output_type": "error",
     "traceback": [
      "\u001b[1;36m  Cell \u001b[1;32mIn [244], line 11\u001b[1;36m\u001b[0m\n\u001b[1;33m    response=requests.get(url)\u001b[0m\n\u001b[1;37m    ^\u001b[0m\n\u001b[1;31mIndentationError\u001b[0m\u001b[1;31m:\u001b[0m unexpected indent\n"
     ]
    }
   ],
   "source": [
    "import numpy as np\n",
    "import pandas as pd\n",
    "import requests\n",
    "import io\n",
    "import json\n",
    "import datetime\n",
    "past_5_days=[1665770400.0, 1665684000.0, 1665597600.0, 1665511200.0, 1665424800.0]\n",
    "def get_historical_weater( lat=53.7,lon=1.54,api_key=data_config[bc2d732248597a8725c1f5d51e5],past_6_days=past_6_days_list):\n",
    "  for days in past_6_days:\n",
    "    url= \"https//api.openweathermap.org/data/2.5/onecall/timemachinelat=%s&lon=%s&dt=%s&units=metric&appid=%s%\"\n",
    "     response=requests.get(url)\n",
    "    data = json.loads(response.text)\n",
    "    hourly_data = data[\"hourly\"]\n",
    "    for entry in hourly_data:\n",
    "      temp = pd.DataFrame.from_dict(pd.json_normalize(entry), orient=\"columns\")\n",
    "      columns = [\"dt\", \"temp\"]\n",
    "      temp = temp[columns]\n",
    "      temp[\"dt\"] = datetime.fromtimestamp(entry[\"dt\"], pytz.utc)\n",
    "      new_df = new_df.append(temp, ignore_index=True)\n",
    "      past_6_days_df = pd.concat([past_6_days_df, new_df], axis=0, ignore_index=False ).drop_duplicates()\n",
    "      return past_6_days_df"
   ]
  },
  {
   "cell_type": "code",
   "execution_count": 279,
   "metadata": {},
   "outputs": [
    {
     "name": "stderr",
     "output_type": "stream",
     "text": [
      "<>:17: SyntaxWarning: 'str' object is not callable; perhaps you missed a comma?\n",
      "<>:17: SyntaxWarning: 'str' object is not callable; perhaps you missed a comma?\n",
      "C:\\Users\\jacob odaudu\\AppData\\Local\\Temp\\ipykernel_16412\\174607241.py:17: SyntaxWarning: 'str' object is not callable; perhaps you missed a comma?\n",
      "  url = (\"https://api.openweathermap.org/data/2.5/onecall/timemachine?lat=%s&lon=%s&dt=%s&units=metric&appid=%s%\" (\n"
     ]
    },
    {
     "ename": "NameError",
     "evalue": "name 'data_config' is not defined",
     "output_type": "error",
     "traceback": [
      "\u001b[1;31m---------------------------------------------------------------------------\u001b[0m",
      "\u001b[1;31mNameError\u001b[0m                                 Traceback (most recent call last)",
      "Cell \u001b[1;32mIn [279], line 3\u001b[0m\n\u001b[0;32m      1\u001b[0m \u001b[39mdef\u001b[39;00m \u001b[39mget_historical_weather\u001b[39m(lat\u001b[39m=\u001b[39m\u001b[39m53.75\u001b[39m,\n\u001b[0;32m      2\u001b[0m                            lon\u001b[39m=\u001b[39m\u001b[39m01.54\u001b[39m,\n\u001b[1;32m----> 3\u001b[0m                            api_key\u001b[39m=\u001b[39mdata_config[\u001b[39m'\u001b[39m\u001b[39mapi_key\u001b[39m\u001b[39m'\u001b[39m],\n\u001b[0;32m      4\u001b[0m                            past_5_days\u001b[39m=\u001b[39mpast_5_days_list):\n\u001b[0;32m      5\u001b[0m     \u001b[39m\"\"\" Returns a dataframe with dt and temp columns.\u001b[39;00m\n\u001b[0;32m      6\u001b[0m \u001b[39m    Keyword arguments:\u001b[39;00m\n\u001b[0;32m      7\u001b[0m \u001b[39m    lat -- the latitude (default 53.75)\u001b[39;00m\n\u001b[0;32m      8\u001b[0m \u001b[39m    lon -- the longitude (default 0.54)\u001b[39;00m\n\u001b[0;32m      9\u001b[0m \u001b[39m    api_key -- api key gotten from openweathermap\u001b[39;00m\n\u001b[0;32m     10\u001b[0m \u001b[39m    past_6_days -- a list of timestamps for the 6 days you want historical data for\"\"\"\u001b[39;00m\n\u001b[0;32m     11\u001b[0m     \u001b[39m# created a open df to store values\u001b[39;00m\n",
      "\u001b[1;31mNameError\u001b[0m: name 'data_config' is not defined"
     ]
    }
   ],
   "source": [
    "def get_historical_weather(lat=53.75,\n",
    "                           lon=01.54,\n",
    "                           api_key=data_config['api_key'],\n",
    "                           past_5_days=past_5_days_list):\n",
    "    \"\"\" Returns a dataframe with dt and temp columns.\n",
    "    Keyword arguments:\n",
    "    lat -- the latitude (default 53.75)\n",
    "    lon -- the longitude (default 0.54)\n",
    "    api_key -- api key gotten from openweathermap\n",
    "    past_6_days -- a list of timestamps for the 6 days you want historical data for\"\"\"\n",
    "    # created a open df to store values\n",
    "    new_df = pd.DataFrame()\n",
    "    # convert it to a variable\n",
    "    past_5_days_df = pd.DataFrame()\n",
    "    days = range(1, 6)\n",
    "    for days in past_5_days:\n",
    "        url = (\"https://api.openweathermap.org/data/2.5/onecall/timemachine?lat=%s&lon=%s&dt=%s&units=metric&appid=%s%\" (\n",
    "            lat, lon, day, bc2d732248597a8725c1f5d51e5))\n",
    "        response = requests.get(url)\n",
    "        data = json.loads(response.text)\n",
    "        # json? assumption of pulling data into function and converting into python test\n",
    "        hourly_data = data[\"hourly\"]\n",
    "        # Assuming pulling hourly staticstics from dict\n",
    "        for entry in hourly_data:\n",
    "            temp = pd.DataFrame.from_dict(\n",
    "                pd.json_normalize(entry), orient=\"columns\")\n",
    "            # select only nec. columns\n",
    "            columns = [\"dt\", \"temp\"]\n",
    "            temp = temp[columns]\n",
    "            # transform dt column\n",
    "            temp[\"dt\"] = datetime.fromtimestamp(\n",
    "                entry[\"dt\"], pytz.utc)\n",
    "            new_df = new_df.append(temp, ignore_index=True)\n",
    "            # concatenate each day in a new dataframe\n",
    "            past_6_days_df = pd.concat(\n",
    "                [past_6_days_df, new_df], axis=0, ignore_index=False).drop_duplicates()\n"
   ]
  },
  {
   "cell_type": "code",
   "execution_count": 121,
   "metadata": {},
   "outputs": [],
   "source": [
    "\n",
    "\n"
   ]
  }
 ],
 "metadata": {
  "kernelspec": {
   "display_name": "python_project",
   "language": "python",
   "name": "python_project"
  },
  "language_info": {
   "codemirror_mode": {
    "name": "ipython",
    "version": 3
   },
   "file_extension": ".py",
   "mimetype": "text/x-python",
   "name": "python",
   "nbconvert_exporter": "python",
   "pygments_lexer": "ipython3",
   "version": "3.11.0"
  },
  "orig_nbformat": 4,
  "vscode": {
   "interpreter": {
    "hash": "c261aea317cc0286b3b3261fbba9abdec21eaa57589985bb7a274bf54d6cc0a7"
   }
  }
 },
 "nbformat": 4,
 "nbformat_minor": 2
}
